{
  "nbformat": 4,
  "nbformat_minor": 0,
  "metadata": {
    "colab": {
      "provenance": [],
      "authorship_tag": "ABX9TyOP3+8DiNrOnieuucmGaihS",
      "include_colab_link": true
    },
    "kernelspec": {
      "name": "python3",
      "display_name": "Python 3"
    },
    "language_info": {
      "name": "python"
    }
  },
  "cells": [
    {
      "cell_type": "markdown",
      "metadata": {
        "id": "view-in-github",
        "colab_type": "text"
      },
      "source": [
        "<a href=\"https://colab.research.google.com/github/Manishkancharla/Statistics-Basic-Assignment/blob/main/Statistics_Practice_Questions_Assignment.ipynb\" target=\"_parent\"><img src=\"https://colab.research.google.com/assets/colab-badge.svg\" alt=\"Open In Colab\"/></a>"
      ]
    },
    {
      "cell_type": "markdown",
      "source": [
        "1) Generate a list of 100 integers containing values between 90 to 130 and store it in the variable `int_list`.\n",
        "After generating the list, find the following:\n",
        "\n",
        "  \n",
        "\n",
        "  (i) Write a Python function to calculate the mean of a given list of numbers.\n",
        "\n",
        "Create a function to find the median of a list of numbers.\n",
        "\n",
        "  \n",
        "\n",
        "  (ii) Develop a program to compute the mode of a list of integers.\n",
        "\n",
        "  \n",
        "\n",
        "  (iii) Implement a function to calculate the weighted mean of a list of values and their corresponding weights.\n",
        "\n",
        "  \n",
        "\n",
        "  (iv) Write a Python function to find the geometric mean of a list of positive numbers.\n",
        "\n",
        "  \n",
        "\n",
        "  (v) Create a program to calculate the harmonic mean of a list of values.\n",
        "\n",
        "  \n",
        "\n",
        "  (vi) Build a function to determine the midrange of a list of numbers (average of the minimum and maximum).\n",
        "\n",
        "  \n",
        "\n",
        "  (vii) Implement a Python program to find the trimmed mean of a list, excluding a certain percentage of\n",
        "outliers.\n"
      ],
      "metadata": {
        "id": "9x4yQXFPEZjm"
      }
    },
    {
      "cell_type": "code",
      "source": [
        "import random\n",
        "import statistics\n",
        "\n",
        "# Generate a list of 100 integers between 90 and 130\n",
        "int_list = [random.randint(90, 130) for _ in range(100)]\n",
        "\n",
        "# (i) Calculate mean and median\n",
        "def calculate_mean(data):\n",
        "    \"\"\"Calculates the mean of a list of numbers.\"\"\"\n",
        "    return sum(data) / len(data)\n",
        "\n",
        "def calculate_median(data):\n",
        "    \"\"\"Calculates the median of a list of numbers.\"\"\"\n",
        "    return statistics.median(data)\n",
        "\n",
        "# (ii) Calculate mode\n",
        "def calculate_mode(data):\n",
        "    \"\"\"Calculates the mode of a list of integers.\"\"\"\n",
        "    try:\n",
        "        return statistics.mode(data)\n",
        "    except statistics.StatisticsError:  # Handle cases with multiple modes\n",
        "        return \"No unique mode\"\n",
        "\n",
        "# (iii) Calculate weighted mean\n",
        "def calculate_weighted_mean(data, weights):\n",
        "    \"\"\"Calculates the weighted mean of a list of values and their corresponding weights.\"\"\"\n",
        "    weighted_sum = sum([x * w for x, w in zip(data, weights)])\n",
        "    total_weight = sum(weights)\n",
        "    return weighted_sum / total_weight\n",
        "\n",
        "# (iv) Calculate geometric mean\n",
        "def calculate_geometric_mean(data):\n",
        "    \"\"\"Calculates the geometric mean of a list of positive numbers.\"\"\"\n",
        "    import math\n",
        "    product = math.prod(data)\n",
        "    return product ** (1 / len(data))\n",
        "\n",
        "# (v) Calculate harmonic mean\n",
        "def calculate_harmonic_mean(data):\n",
        "    \"\"\"Calculates the harmonic mean of a list of values.\"\"\"\n",
        "    return len(data) / sum(1 / x for x in data)\n",
        "\n",
        "# (vi) Calculate midrange\n",
        "def calculate_midrange(data):\n",
        "    \"\"\"Calculates the midrange of a list of numbers.\"\"\"\n",
        "    return (min(data) + max(data)) / 2\n",
        "\n",
        "# (vii) Calculate trimmed mean\n",
        "def calculate_trimmed_mean(data, trim_percent):\n",
        "    \"\"\"Calculates the trimmed mean of a list, excluding a certain percentage of outliers.\"\"\"\n",
        "    k = int(trim_percent * len(data) / 100)\n",
        "    trimmed_data = sorted(data)[k:-k]\n",
        "    return calculate_mean(trimmed_data)\n",
        "\n",
        "# Calculate and print the results\n",
        "print(\"Mean:\", calculate_mean(int_list))\n",
        "print(\"Median:\", calculate_median(int_list))\n",
        "print(\"Mode:\", calculate_mode(int_list))\n",
        "# Example usage for weighted mean (assume equal weights for simplicity)\n",
        "weights = [1] * len(int_list)\n",
        "print(\"Weighted Mean:\", calculate_weighted_mean(int_list, weights))\n",
        "print(\"Geometric Mean:\", calculate_geometric_mean(int_list))\n",
        "print(\"Harmonic Mean:\", calculate_harmonic_mean(int_list))\n",
        "print(\"Midrange:\", calculate_midrange(int_list))\n",
        "print(\"Trimmed Mean (10%):\", calculate_trimmed_mean(int_list, 10))"
      ],
      "metadata": {
        "colab": {
          "base_uri": "https://localhost:8080/"
        },
        "id": "iNL8bxOvE22u",
        "outputId": "e4b46ae9-937e-4b74-9390-06c71e5e2831"
      },
      "execution_count": 5,
      "outputs": [
        {
          "output_type": "stream",
          "name": "stdout",
          "text": [
            "Mean: 110.0\n",
            "Median: 111.0\n",
            "Mode: 95\n",
            "Weighted Mean: 110.0\n",
            "Geometric Mean: 109.362294624332\n",
            "Harmonic Mean: 108.71804215111965\n",
            "Midrange: 110.0\n",
            "Trimmed Mean (10%): 110.0375\n"
          ]
        }
      ]
    },
    {
      "cell_type": "markdown",
      "source": [
        "2) Generate a list of 500 integers containing values between 200 to 300 and store it in the variable `int_list2`.\n",
        "After generating the list, find the following:\n",
        "\n",
        "\n",
        "  (i) Compare the given list of visualization for the given data:\n",
        "\n",
        "    \n",
        "\n",
        "    1. Frequency & Gaussian distribution\n",
        "\n",
        "    2. Frequency smoothened KDE plot\n",
        "\n",
        "    3. Gaussian distribution & smoothened KDE plot\n",
        "\n",
        "\n",
        "  (ii) Write a Python function to calculate the range of a given list of numbers.\n",
        "\n",
        "\n",
        "  (iii) Create a program to find the variance and standard deviation of a list of numbers.\n",
        "\n",
        "\n",
        "  (iv) Implement a function to compute the interquartile range (IQR) of a list of values.\n",
        "\n",
        "\n",
        "  (v) Build a program to calculate the coefficient of variation for a dataset.\n",
        "\n",
        "  \n",
        "\n",
        "  (vi) Write a Python function to find the mean absolute deviation (MAD) of a list of numbers.\n",
        "\n",
        "\n",
        "  (vii) Create a program to calculate the quartile deviation of a list of values.\n",
        "\n",
        "  \n",
        "\n",
        "  (viii) Implement a function to find the range-based coefficient of dispersion for a dataset."
      ],
      "metadata": {
        "id": "q5PnYHq6Ed5r"
      }
    },
    {
      "cell_type": "code",
      "source": [
        "import random\n",
        "import matplotlib.pyplot as plt\n",
        "import seaborn as sns\n",
        "import numpy as np\n",
        "from scipy import stats\n",
        "\n",
        "# Generate a list of 500 integers between 200 and 300\n",
        "int_list2 = [random.randint(200, 300) for _ in range(500)]\n",
        "\n",
        "# (i) Visualizations\n",
        "# 1. Frequency & Gaussian distribution\n",
        "plt.figure(figsize=(10, 6))\n",
        "sns.histplot(int_list2, bins=30, kde=True)\n",
        "plt.title(\"Frequency & Gaussian Distribution\")\n",
        "plt.xlabel(\"Values\")\n",
        "plt.ylabel(\"Frequency\")\n",
        "\n",
        "# 2. Frequency smoothened KDE plot\n",
        "plt.figure(figsize=(10, 6))\n",
        "sns.kdeplot(int_list2, bw_method='scott', fill=True)\n",
        "plt.title(\"Frequency Smoothened KDE Plot\")\n",
        "plt.xlabel(\"Values\")\n",
        "plt.ylabel(\"Density\")\n",
        "\n",
        "# 3. Gaussian distribution & smoothened KDE plot\n",
        "mu, std = stats.norm.fit(int_list2)\n",
        "x = np.linspace(200, 300, 100)\n",
        "plt.figure(figsize=(10, 6))\n",
        "plt.plot(x, stats.norm.pdf(x, mu, std), label='Gaussian Distribution')\n",
        "sns.kdeplot(int_list2, bw_method='scott', label='KDE Plot')\n",
        "plt.legend()\n",
        "plt.title(\"Gaussian Distribution & Smoothened KDE Plot\")\n",
        "plt.xlabel(\"Values\")\n",
        "plt.ylabel(\"Density\")\n",
        "plt.show()\n",
        "\n",
        "# (ii) Calculate range\n",
        "def calculate_range(data):\n",
        "    \"\"\"Calculates the range of a given list of numbers.\"\"\"\n",
        "    return max(data) - min(data)\n",
        "\n",
        "# (iii) Calculate variance and standard deviation\n",
        "def calculate_variance_std_dev(data):\n",
        "    \"\"\"Calculates the variance and standard deviation of a list of numbers.\"\"\"\n",
        "    mean = sum(data) / len(data)\n",
        "    variance = sum([(x - mean) ** 2 for x in data]) / len(data)\n",
        "    std_dev = variance ** 0.5\n",
        "    return variance, std_dev\n",
        "\n",
        "# (iv) Calculate interquartile range (IQR)\n",
        "def calculate_iqr(data):\n",
        "    \"\"\"Calculates the interquartile range (IQR) of a list of values.\"\"\"\n",
        "    q1, q3 = np.percentile(data, [25, 75])\n",
        "    return q3 - q1\n",
        "\n",
        "# (v) Calculate coefficient of variation\n",
        "def calculate_coefficient_of_variation(data):\n",
        "    \"\"\"Calculates the coefficient of variation for a dataset.\"\"\"\n",
        "    mean = sum(data) / len(data)\n",
        "    std_dev = np.std(data)\n",
        "    return (std_dev / mean) * 100\n",
        "\n",
        "# (vi) Calculate mean absolute deviation (MAD)\n",
        "def calculate_mad(data):\n",
        "    \"\"\"Calculates the mean absolute deviation (MAD) of a list of numbers.\"\"\"\n",
        "    mean = sum(data) / len(data)\n",
        "    return sum([abs(x - mean) for x in data]) / len(data)\n",
        "\n",
        "# (vii) Calculate quartile deviation\n",
        "def calculate_quartile_deviation(data):\n",
        "    \"\"\"Calculates the quartile deviation of a list of values.\"\"\"\n",
        "    q1, q3 = np.percentile(data, [25, 75])\n",
        "    return (q3 - q1) / 2\n",
        "\n",
        "# (viii) Calculate range-based coefficient of dispersion\n",
        "def calculate_range_based_coefficient_of_dispersion(data):\n",
        "    \"\"\"Calculates the range-based coefficient of dispersion for a dataset.\"\"\"\n",
        "    return (max(data) - min(data)) / (max(data) + min(data))\n",
        "\n",
        "# Calculate and print the results\n",
        "print(\"Range:\", calculate_range(int_list2))\n",
        "variance, std_dev = calculate_variance_std_dev(int_list2)\n",
        "print(\"Variance:\", variance)\n",
        "print(\"Standard Deviation:\", std_dev)\n",
        "print(\"IQR:\", calculate_iqr(int_list2))\n",
        "print(\"Coefficient of Variation:\", calculate_coefficient_of_variation(int_list2))\n",
        "print(\"Mean Absolute Deviation:\", calculate_mad(int_list2))\n",
        "print(\"Quartile Deviation:\", calculate_quartile_deviation(int_list2))\n",
        "print(\"Range-Based Coefficient of Dispersion:\", calculate_range_based_coefficient_of_dispersion(int_list2))"
      ],
      "metadata": {
        "colab": {
          "base_uri": "https://localhost:8080/",
          "height": 1000
        },
        "id": "3uf_qkmYFBI0",
        "outputId": "6a033b73-6e10-46d6-b419-0a17b33f5e25"
      },
      "execution_count": 6,
      "outputs": [
        {
          "output_type": "display_data",
          "data": {
            "text/plain": [
              "<Figure size 1000x600 with 1 Axes>"
            ],
            "image/png": "[encoded data removed]"
          },
          "metadata": {}
        },
        {
          "output_type": "display_data",
          "data": {
            "text/plain": [
              "<Figure size 1000x600 with 1 Axes>"
            ],
            "image/png": "[encoded data removed]"
          },
          "metadata": {}
        },
        {
          "output_type": "display_data",
          "data": {
            "text/plain": [
              "<Figure size 1000x600 with 1 Axes>"
            ],
            "image/png": "[encoded data removed]"
          },
          "metadata": {}
        }
      ]
    },
    {
      "cell_type": "markdown",
      "source": [
        "3) Write a Python class representing a discrete random variable with methods to calculate its expected\n",
        "value and variance?\n"
      ],
      "metadata": {
        "id": "kw04I_v9EdxT"
      }
    },
    {
      "cell_type": "code",
      "source": [
        "class DiscreteRandomVariable:\n",
        "    \"\"\"\n",
        "    Represents a discrete random variable with methods to calculate its expected value and variance.\n",
        "\n",
        "    Attributes:\n",
        "        values (list): A list of possible values the random variable can take.\n",
        "        probabilities (list): A list of corresponding probabilities for each value.\n",
        "\n",
        "    Methods:\n",
        "        expected_value(): Calculates the expected value of the random variable.\n",
        "        variance(): Calculates the variance of the random variable.\n",
        "    \"\"\"\n",
        "\n",
        "    def __init__(self, values, probabilities):\n",
        "        \"\"\"\n",
        "        Initializes a DiscreteRandomVariable object.\n",
        "\n",
        "        Args:\n",
        "            values (list): A list of possible values.\n",
        "            probabilities (list): A list of corresponding probabilities.\n",
        "\n",
        "        Raises:\n",
        "            ValueError: If the lengths of values and probabilities lists don't match or if any probability is negative or greater than 1.\n",
        "            ValueError: If the sum of probabilities is not equal to 1.\n",
        "        \"\"\"\n",
        "        if len(values) != len(probabilities):\n",
        "            raise ValueError(\"Values and probabilities lists must have the same length.\")\n",
        "        if any(p < 0 or p > 1 for p in probabilities):\n",
        "            raise ValueError(\"Probabilities must be between 0 and 1.\")\n",
        "        if abs(sum(probabilities) - 1) > 1e-6:  # Allow for small numerical errors\n",
        "            raise ValueError(\"Sum of probabilities must be 1.\")\n",
        "\n",
        "        self.values = values\n",
        "        self.probabilities = probabilities\n",
        "\n",
        "    def expected_value(self):\n",
        "        \"\"\"\n",
        "        Calculates the expected value of the random variable.\n",
        "\n",
        "        Returns:\n",
        "            float: The expected value.\n",
        "        \"\"\"\n",
        "        return sum(value * prob for value, prob in zip(self.values, self.probabilities))\n",
        "\n",
        "    def variance(self):\n",
        "        \"\"\"\n",
        "        Calculates the variance of the random variable.\n",
        "\n",
        "        Returns:\n",
        "            float: The variance.\n",
        "        \"\"\"\n",
        "        expected_value = self.expected_value()\n",
        "        return sum((value - expected_value) ** 2 * prob for value, prob in zip(self.values, self.probabilities))"
      ],
      "metadata": {
        "colab": {
          "base_uri": "https://localhost:8080/"
        },
        "id": "0IaHnyueFLmn",
        "outputId": "7b982f61-c6f7-431f-bec6-d48f42e5a8eb"
      },
      "execution_count": 7,
      "outputs": [
        {
          "output_type": "stream",
          "name": "stdout",
          "text": [
            "Range: 100\n",
            "Variance: 872.4560439999995\n",
            "Standard Deviation: 29.537366910406885\n",
            "IQR: 53.0\n",
            "Coefficient of Variation: 11.868783566420037\n",
            "Mean Absolute Deviation: 25.640928\n",
            "Quartile Deviation: 26.5\n",
            "Range-Based Coefficient of Dispersion: 0.2\n"
          ]
        }
      ]
    },
    {
      "cell_type": "markdown",
      "source": [
        "4) ) Implement a program to simulate the rolling of a fair six-sided die and calculate the expected value and\n",
        "variance of the outcomes?"
      ],
      "metadata": {
        "id": "YZWIl3-aEdpr"
      }
    },
    {
      "cell_type": "code",
      "source": [
        "import random\n",
        "\n",
        "def simulate_die_rolls(num_rolls):\n",
        "    \"\"\"\n",
        "    Simulates rolling a fair six-sided die multiple times.\n",
        "\n",
        "    Args:\n",
        "        num_rolls (int): The number of times to roll the die.\n",
        "\n",
        "    Returns:\n",
        "        list: A list containing the outcomes of each die roll.\n",
        "    \"\"\"\n",
        "    rolls = []\n",
        "    for _ in range(num_rolls):\n",
        "        roll = random.randint(1, 6)\n",
        "        rolls.append(roll)\n",
        "    return rolls\n",
        "\n",
        "def calculate_expected_value(rolls):\n",
        "    \"\"\"\n",
        "    Calculates the expected value of the die rolls.\n",
        "\n",
        "    Args:\n",
        "        rolls (list): A list containing the outcomes of each die roll.\n",
        "\n",
        "    Returns:\n",
        "        float: The expected value.\n",
        "    \"\"\"\n",
        "    return sum(rolls) / len(rolls)\n",
        "\n",
        "def calculate_variance(rolls):\n",
        "    \"\"\"\n",
        "    Calculates the variance of the die rolls.\n",
        "\n",
        "    Args:\n",
        "        rolls (list): A list containing the outcomes of each die roll.\n",
        "\n",
        "    Returns:\n",
        "        float: The variance.\n",
        "    \"\"\"\n",
        "    mean = calculate_expected_value(rolls)\n",
        "    squared_diffs = [(roll - mean) ** 2 for roll in rolls]\n",
        "    return sum(squared_diffs) / len(rolls)\n",
        "\n",
        "if __name__ == \"__main__\":\n",
        "    num_rolls = 10000  # Number of times to roll the die\n",
        "    rolls = simulate_die_rolls(num_rolls)\n",
        "\n",
        "    expected_value = calculate_expected_value(rolls)\n",
        "    variance = calculate_variance(rolls)\n",
        "\n",
        "    print(f\"Expected Value: {expected_value:.2f}\")\n",
        "    print(f\"Variance: {variance:.2f}\")"
      ],
      "metadata": {
        "colab": {
          "base_uri": "https://localhost:8080/"
        },
        "id": "CWIb72yJFZh8",
        "outputId": "52c833ba-896d-4c7f-bf0c-9933d22dd612"
      },
      "execution_count": 8,
      "outputs": [
        {
          "output_type": "stream",
          "name": "stdout",
          "text": [
            "Expected Value: 3.50\n",
            "Variance: 2.87\n"
          ]
        }
      ]
    },
    {
      "cell_type": "markdown",
      "source": [
        "5) Create a Python function to generate random samples from a given probability distribution (e.g.,\n",
        "binomial, Poisson) and calculate their mean and variance?"
      ],
      "metadata": {
        "id": "hC_7W2aMEdiR"
      }
    },
    {
      "cell_type": "code",
      "source": [
        "import numpy as np\n",
        "\n",
        "def generate_random_samples(distribution, params, sample_size):\n",
        "  \"\"\"\n",
        "  Generates random samples from a given probability distribution.\n",
        "\n",
        "  Args:\n",
        "    distribution: The name of the distribution (e.g., 'binomial', 'poisson', 'normal').\n",
        "    params: A dictionary containing the parameters for the distribution.\n",
        "             For example:\n",
        "             - 'binomial': {'n': 10, 'p': 0.5}\n",
        "             - 'poisson': {'mu': 3}\n",
        "             - 'normal': {'mu': 0, 'sigma': 1}\n",
        "    sample_size: The number of samples to generate.\n",
        "\n",
        "  Returns:\n",
        "    A tuple containing:\n",
        "      - A list of generated random samples.\n",
        "      - The sample mean.\n",
        "      - The sample variance.\n",
        "  \"\"\"\n",
        "\n",
        "  if distribution == 'binomial':\n",
        "    n = params['n']\n",
        "    p = params['p']\n",
        "    samples = np.random.binomial(n, p, size=sample_size)\n",
        "\n",
        "  elif distribution == 'poisson':\n",
        "    mu = params['mu']\n",
        "    samples = np.random.poisson(mu, size=sample_size)\n",
        "\n",
        "  elif distribution == 'normal':\n",
        "    mu = params['mu']\n",
        "    sigma = params['sigma']\n",
        "    samples = np.random.normal(mu, sigma, size=sample_size)\n",
        "\n",
        "  else:\n",
        "    raise ValueError(f\"Invalid distribution: {distribution}\")\n",
        "\n",
        "  sample_mean = np.mean(samples)\n",
        "  sample_variance = np.var(samples)\n",
        "\n",
        "  return samples, sample_mean, sample_variance\n",
        "\n",
        "# Example usage:\n",
        "distribution = 'binomial'\n",
        "params = {'n': 10, 'p': 0.3}\n",
        "sample_size = 1000\n",
        "\n",
        "samples, mean, variance = generate_random_samples(distribution, params, sample_size)\n",
        "\n",
        "print(f\"Distribution: {distribution}\")\n",
        "print(f\"Parameters: {params}\")\n",
        "print(f\"Sample Mean: {mean:.4f}\")\n",
        "print(f\"Sample Variance: {variance:.4f}\")"
      ],
      "metadata": {
        "colab": {
          "base_uri": "https://localhost:8080/"
        },
        "id": "J4nPcLYRFkKS",
        "outputId": "5d16e473-ad9c-4905-8bad-086354db1da4"
      },
      "execution_count": 9,
      "outputs": [
        {
          "output_type": "stream",
          "name": "stdout",
          "text": [
            "Distribution: binomial\n",
            "Parameters: {'n': 10, 'p': 0.3}\n",
            "Sample Mean: 3.0310\n",
            "Sample Variance: 2.1620\n"
          ]
        }
      ]
    },
    {
      "cell_type": "markdown",
      "source": [
        "6) Write a Python script to generate random numbers from a Gaussian (normal) distribution and compute\n",
        "the mean, variance, and standard deviation of the samples?"
      ],
      "metadata": {
        "id": "G8kgsJSQEdaq"
      }
    },
    {
      "cell_type": "code",
      "source": [
        "import numpy as np\n",
        "\n",
        "def generate_gaussian_samples(mu, sigma, sample_size):\n",
        "  \"\"\"\n",
        "  Generates random numbers from a Gaussian (normal) distribution.\n",
        "\n",
        "  Args:\n",
        "    mu: Mean of the Gaussian distribution.\n",
        "    sigma: Standard deviation of the Gaussian distribution.\n",
        "    sample_size: Number of samples to generate.\n",
        "\n",
        "  Returns:\n",
        "    A list of generated random numbers.\n",
        "  \"\"\"\n",
        "  return np.random.normal(mu, sigma, sample_size)\n",
        "\n",
        "def calculate_statistics(samples):\n",
        "  \"\"\"\n",
        "  Calculates the mean, variance, and standard deviation of a list of numbers.\n",
        "\n",
        "  Args:\n",
        "    samples: A list of numbers.\n",
        "\n",
        "  Returns:\n",
        "    A tuple containing the mean, variance, and standard deviation.\n",
        "  \"\"\"\n",
        "  mean = np.mean(samples)\n",
        "  variance = np.var(samples)\n",
        "  std_dev = np.std(samples)\n",
        "  return mean, variance, std_dev\n",
        "\n",
        "if __name__ == \"__main__\":\n",
        "  mu = 0  # Mean of the Gaussian distribution\n",
        "  sigma = 1  # Standard deviation of the Gaussian distribution\n",
        "  sample_size = 1000  # Number of samples to generate\n",
        "\n",
        "  samples = generate_gaussian_samples(mu, sigma, sample_size)\n",
        "  mean, variance, std_dev = calculate_statistics(samples)\n",
        "\n",
        "  print(f\"Mean: {mean:.4f}\")\n",
        "  print(f\"Variance: {variance:.4f}\")\n",
        "  print(f\"Standard Deviation: {std_dev:.4f}\")"
      ],
      "metadata": {
        "colab": {
          "base_uri": "https://localhost:8080/"
        },
        "id": "FqGCbOqsFrPD",
        "outputId": "069cb5b8-32b0-4094-b0b0-082baf9b66e1"
      },
      "execution_count": 10,
      "outputs": [
        {
          "output_type": "stream",
          "name": "stdout",
          "text": [
            "Mean: 0.0021\n",
            "Variance: 1.0239\n",
            "Standard Deviation: 1.0119\n"
          ]
        }
      ]
    },
    {
      "cell_type": "markdown",
      "source": [
        "7) Use seaborn library to load tips dataset. Find the following from the dataset for the columns total_bill\n",
        "and tip`:\n",
        "\n",
        "  \n",
        "\n",
        "  (i) Write a Python function that calculates their skewness.\n",
        "\n",
        "\n",
        "  (ii) Create a program that determines whether the columns exhibit positive skewness, negative skewness, or is\n",
        "approximately symmetric.\n",
        "\n",
        "\n",
        "  (iii) Write a function that calculates the covariance between two columns.\n",
        "\n",
        "\n",
        "  (iv) Implement a Python program that calculates the Pearson correlation coefficient between two columns.\n",
        "\n",
        "\n",
        "  (v) Write a script to visualize the correlation between two specific columns in a Pandas DataFrame using\n",
        "scatter plots."
      ],
      "metadata": {
        "id": "BnmNEGTJEdTB"
      }
    },
    {
      "cell_type": "code",
      "source": [
        "import seaborn as sns\n",
        "import pandas as pd\n",
        "import matplotlib.pyplot as plt\n",
        "\n",
        "# Load the tips dataset\n",
        "tips_df = sns.load_dataset(\"tips\")\n",
        "\n",
        "# (i) Function to calculate skewness\n",
        "def calculate_skewness(data):\n",
        "    \"\"\"\n",
        "    Calculates the skewness of a given dataset.\n",
        "\n",
        "    Args:\n",
        "        data: A pandas Series or a list of numbers.\n",
        "\n",
        "    Returns:\n",
        "        float: The skewness of the data.\n",
        "    \"\"\"\n",
        "    return data.skew()\n",
        "\n",
        "# (ii) Determine skewness for 'total_bill' and 'tip'\n",
        "total_bill_skew = calculate_skewness(tips_df['total_bill'])\n",
        "tip_skew = calculate_skewness(tips_df['tip'])\n",
        "\n",
        "print(f\"Skewness of total_bill: {total_bill_skew}\")\n",
        "print(f\"Skewness of tip: {tip_skew}\")\n",
        "\n",
        "if total_bill_skew > 0:\n",
        "    print(\"total_bill exhibits positive skewness.\")\n",
        "elif total_bill_skew < 0:\n",
        "    print(\"total_bill exhibits negative skewness.\")\n",
        "else:\n",
        "    print(\"total_bill is approximately symmetric.\")\n",
        "\n",
        "if tip_skew > 0:\n",
        "    print(\"tip exhibits positive skewness.\")\n",
        "elif tip_skew < 0:\n",
        "    print(\"tip exhibits negative skewness.\")\n",
        "else:\n",
        "    print(\"tip is approximately symmetric.\")\n",
        "\n",
        "# (iii) Function to calculate covariance\n",
        "def calculate_covariance(column1, column2):\n",
        "    \"\"\"\n",
        "    Calculates the covariance between two columns.\n",
        "\n",
        "    Args:\n",
        "        column1: A pandas Series.\n",
        "        column2: A pandas Series.\n",
        "\n",
        "    Returns:\n",
        "        float: The covariance between the two columns.\n",
        "    \"\"\"\n",
        "    return column1.cov(column2)\n",
        "\n",
        "# Calculate covariance between 'total_bill' and 'tip'\n",
        "covariance = calculate_covariance(tips_df['total_bill'], tips_df['tip'])\n",
        "print(f\"Covariance between total_bill and tip: {covariance}\")\n",
        "\n",
        "# (iv) Calculate Pearson correlation coefficient\n",
        "correlation = tips_df['total_bill'].corr(tips_df['tip'])\n",
        "print(f\"Pearson correlation coefficient: {correlation}\")\n",
        "\n",
        "# (v) Visualize correlation with scatter plot\n",
        "sns.scatterplot(x='total_bill', y='tip', data=tips_df)\n",
        "plt.title(\"Scatter Plot: Total Bill vs. Tip\")\n",
        "plt.xlabel(\"Total Bill\")\n",
        "plt.ylabel(\"Tip\")\n",
        "plt.show()"
      ],
      "metadata": {
        "colab": {
          "base_uri": "https://localhost:8080/",
          "height": 576
        },
        "id": "hUipq7vxFyik",
        "outputId": "47e4f045-ceaf-44ae-aa57-6ed4aaefab0f"
      },
      "execution_count": 11,
      "outputs": [
        {
          "output_type": "stream",
          "name": "stdout",
          "text": [
            "Skewness of total_bill: 1.1332130376158205\n",
            "Skewness of tip: 1.4654510370979401\n",
            "total_bill exhibits positive skewness.\n",
            "tip exhibits positive skewness.\n",
            "Covariance between total_bill and tip: 8.323501629224854\n",
            "Pearson correlation coefficient: 0.6757341092113641\n"
          ]
        },
        {
          "output_type": "display_data",
          "data": {
            "text/plain": [
              "<Figure size 640x480 with 1 Axes>"
            ],
            "image/png": "[encoded data removed]"
          },
          "metadata": {}
        }
      ]
    },
    {
      "cell_type": "markdown",
      "source": [
        "8) Write a Python function to calculate the probability density function (PDF) of a continuous random\n",
        "variable for a given normal distribution?"
      ],
      "metadata": {
        "id": "o2iubJucEdKn"
      }
    },
    {
      "cell_type": "code",
      "source": [
        "import numpy as np\n",
        "\n",
        "def normal_pdf(x, mu, sigma):\n",
        "  \"\"\"\n",
        "  Calculates the probability density function (PDF) of a normal distribution.\n",
        "\n",
        "  Args:\n",
        "    x: The value at which to evaluate the PDF.\n",
        "    mu: The mean of the normal distribution.\n",
        "    sigma: The standard deviation of the normal distribution.\n",
        "\n",
        "  Returns:\n",
        "    The PDF value at the given x.\n",
        "  \"\"\"\n",
        "\n",
        "  coefficient = 1 / (sigma * np.sqrt(2 * np.pi))\n",
        "  exponent = -0.5 * ((x - mu) / sigma) ** 2\n",
        "  return coefficient * np.exp(exponent)"
      ],
      "metadata": {
        "id": "wVu8iGqdGADY"
      },
      "execution_count": 12,
      "outputs": []
    },
    {
      "cell_type": "markdown",
      "source": [
        "9) Create a program to calculate the cumulative distribution function (CDF) of exponential distribution?"
      ],
      "metadata": {
        "id": "EE4cKauAEdCS"
      }
    },
    {
      "cell_type": "code",
      "source": [
        "import numpy as np\n",
        "\n",
        "def exponential_cdf(x, rate):\n",
        "  \"\"\"\n",
        "  Calculates the cumulative distribution function (CDF) of the exponential distribution.\n",
        "\n",
        "  Args:\n",
        "    x: The value at which to evaluate the CDF.\n",
        "    rate: The rate parameter of the exponential distribution (lambda).\n",
        "\n",
        "  Returns:\n",
        "    The CDF value at the given x.\n",
        "  \"\"\"\n",
        "\n",
        "  if x < 0:\n",
        "    return 0.0\n",
        "  else:\n",
        "    return 1 - np.exp(-rate * x)\n",
        "\n",
        "# Example usage:\n",
        "x_value = 2.0\n",
        "rate_param = 1.5\n",
        "\n",
        "cdf_value = exponential_cdf(x_value, rate_param)\n",
        "print(f\"CDF at x={x_value} with rate={rate_param}: {cdf_value:.4f}\")"
      ],
      "metadata": {
        "colab": {
          "base_uri": "https://localhost:8080/"
        },
        "id": "lxcE8AVrGITm",
        "outputId": "acce7d71-562d-447d-e529-bc03ade02976"
      },
      "execution_count": 13,
      "outputs": [
        {
          "output_type": "stream",
          "name": "stdout",
          "text": [
            "CDF at x=2.0 with rate=1.5: 0.9502\n"
          ]
        }
      ]
    },
    {
      "cell_type": "markdown",
      "source": [
        "10) Write a Python function to calculate the probability mass function (PMF) of Poisson distribution?"
      ],
      "metadata": {
        "id": "jcNXHnODEc5x"
      }
    },
    {
      "cell_type": "code",
      "source": [
        "import math\n",
        "\n",
        "def poisson_pmf(k, lam):\n",
        "  \"\"\"\n",
        "  Calculates the probability mass function (PMF) of the Poisson distribution.\n",
        "\n",
        "  Args:\n",
        "    k: The number of occurrences.\n",
        "    lam: The average rate of occurrences (lambda).\n",
        "\n",
        "  Returns:\n",
        "    The PMF value.\n",
        "  \"\"\"\n",
        "\n",
        "  if k < 0:\n",
        "    return 0.0  # PMF is 0 for k < 0\n",
        "\n",
        "  return (math.exp(-lam) * (lam ** k)) / math.factorial(k)\n",
        "\n",
        "# Example usage:\n",
        "k_value = 3\n",
        "lambda_value = 2\n",
        "\n",
        "pmf_value = poisson_pmf(k_value, lambda_value)\n",
        "print(f\"PMF at k={k_value} with lambda={lambda_value}: {pmf_value:.4f}\")"
      ],
      "metadata": {
        "colab": {
          "base_uri": "https://localhost:8080/"
        },
        "id": "NHvaOfIyGQNX",
        "outputId": "8754b44c-3724-40c4-b242-3cd9380d0eb4"
      },
      "execution_count": 14,
      "outputs": [
        {
          "output_type": "stream",
          "name": "stdout",
          "text": [
            "PMF at k=3 with lambda=2: 0.1804\n"
          ]
        }
      ]
    },
    {
      "cell_type": "markdown",
      "source": [
        "11) A company wants to test if a new website layout leads to a higher conversion rate (percentage of visitors\n",
        "who make a purchase). They collect data from the old and new layouts to compare.\n",
        "\n",
        "\n",
        "To generate the data use the following command:\n",
        "\n",
        "```python\n",
        "\n",
        "import numpy as np\n",
        "\n",
        "# 50 purchases out of 1000 visitors\n",
        "\n",
        "old_layout = np.array([1] * 50 + [0] * 950)\n",
        "\n",
        "# 70 purchases out of 1000 visitors  \n",
        "\n",
        "new_layout = np.array([1] * 70 + [0] * 930)\n",
        "\n",
        "  ```\n",
        "\n",
        "Apply z-test to find which layout is successful."
      ],
      "metadata": {
        "id": "vBBA42cjEcxX"
      }
    },
    {
      "cell_type": "code",
      "source": [
        "import numpy as np\n",
        "from scipy.stats import norm\n",
        "\n",
        "# Data for old and new layouts\n",
        "old_layout = np.array([1] * 50 + [0] * 950)\n",
        "new_layout = np.array([1] * 70 + [0] * 930)\n",
        "\n",
        "# Calculate conversion rates\n",
        "old_conversion_rate = np.mean(old_layout)\n",
        "new_conversion_rate = np.mean(new_layout)\n",
        "\n",
        "# Calculate pooled proportion\n",
        "pooled_proportion = (sum(old_layout) + sum(new_layout)) / (len(old_layout) + len(new_layout))\n",
        "\n",
        "# Calculate standard error\n",
        "se = np.sqrt(pooled_proportion * (1 - pooled_proportion) * (1/len(old_layout) + 1/len(new_layout)))\n",
        "\n",
        "# Calculate z-score\n",
        "z_score = (new_conversion_rate - old_conversion_rate) / se\n",
        "\n",
        "# Calculate p-value\n",
        "p_value = 1 - norm.cdf(z_score)  # Assuming one-tailed test (new layout is better)\n",
        "\n",
        "# Significance level\n",
        "alpha = 0.05\n",
        "\n",
        "# Compare p-value with significance level\n",
        "if p_value < alpha:\n",
        "    print(\"Reject the null hypothesis. The new layout significantly increases conversion rates.\")\n",
        "else:\n",
        "    print(\"Fail to reject the null hypothesis. There is no significant difference in conversion rates.\")\n",
        "\n",
        "print(f\"Z-score: {z_score:.2f}\")\n",
        "print(f\"p-value: {p_value:.4f}\")"
      ],
      "metadata": {
        "colab": {
          "base_uri": "https://localhost:8080/"
        },
        "id": "zZdZoJjgGZho",
        "outputId": "2000dd76-2e31-4e0a-f1fb-d86a3035b8be"
      },
      "execution_count": 15,
      "outputs": [
        {
          "output_type": "stream",
          "name": "stdout",
          "text": [
            "Reject the null hypothesis. The new layout significantly increases conversion rates.\n",
            "Z-score: 1.88\n",
            "p-value: 0.0298\n"
          ]
        }
      ]
    },
    {
      "cell_type": "markdown",
      "source": [
        "12) A tutoring service claims that its program improves students' exam scores. A sample of students who\n",
        "participated in the program was taken, and their scores before and after the program were recorded.\n",
        "\n",
        "\n",
        "Use the below code to generate samples of respective arrays of marks:\n",
        "\n",
        "```python\n",
        "\n",
        "before_program = np.array([75, 80, 85, 70, 90, 78, 92, 88, 82, 87])\n",
        "\n",
        "after_program = np.array([80, 85, 90, 80, 92, 80, 95, 90, 85, 88])\n",
        "\n",
        "```\n",
        "\n",
        "Use z-test to find if the claims made by tutor are true or false?"
      ],
      "metadata": {
        "id": "Gi-xTLL0Ecp_"
      }
    },
    {
      "cell_type": "code",
      "source": [
        "import numpy as np\n",
        "from scipy.stats import ttest_rel\n",
        "\n",
        "# Sample data\n",
        "before_program = np.array([75, 80, 85, 70, 90, 78, 92, 88, 82, 87])\n",
        "after_program = np.array([80, 85, 90, 80, 92, 80, 95, 90, 85, 88])\n",
        "\n",
        "# Perform paired t-test\n",
        "t_statistic, p_value = ttest_rel(before_program, after_program)\n",
        "\n",
        "# Significance level\n",
        "alpha = 0.05\n",
        "\n",
        "# Hypothesis testing\n",
        "if p_value < alpha:\n",
        "    print(\"Reject the null hypothesis. The tutoring program significantly improves student exam scores.\")\n",
        "else:\n",
        "    print(\"Fail to reject the null hypothesis. There is no significant evidence that the tutoring program improves student exam scores.\")\n",
        "\n",
        "print(f\"t-statistic: {t_statistic:.3f}\")\n",
        "print(f\"p-value: {p_value:.4f}\")"
      ],
      "metadata": {
        "colab": {
          "base_uri": "https://localhost:8080/"
        },
        "id": "4fS5_nnGGjG7",
        "outputId": "17100e1d-ee83-4d6a-8c2a-1dafba01a96d"
      },
      "execution_count": 16,
      "outputs": [
        {
          "output_type": "stream",
          "name": "stdout",
          "text": [
            "Reject the null hypothesis. The tutoring program significantly improves student exam scores.\n",
            "t-statistic: -4.593\n",
            "p-value: 0.0013\n"
          ]
        }
      ]
    },
    {
      "cell_type": "markdown",
      "source": [
        "13) A pharmaceutical company wants to determine if a new drug is effective in reducing blood pressure. They\n",
        "conduct a study and record blood pressure measurements before and after administering the drug.\n",
        "\n",
        "\n",
        "Use the below code to generate samples of respective arrays of blood pressure:\n",
        "\n",
        "\n",
        "```python\n",
        "\n",
        "before_drug = np.array([145, 150, 140, 135, 155, 160, 152, 148, 130, 138])\n",
        "\n",
        "after_drug = np.array([130, 140, 132, 128, 145, 148, 138, 136, 125, 130])\n",
        "\n",
        "  ```\n",
        "\n",
        "\n",
        "Implement z-test to find if the drug really works or not?"
      ],
      "metadata": {
        "id": "qmOjWRBVEchZ"
      }
    },
    {
      "cell_type": "code",
      "source": [
        "import numpy as np\n",
        "from scipy.stats import ttest_rel\n",
        "\n",
        "# Sample data\n",
        "before_drug = np.array([145, 150, 140, 135, 155, 160, 152, 148, 130, 138])\n",
        "after_drug = np.array([130, 140, 132, 128, 145, 148, 138, 136, 125, 130])\n",
        "\n",
        "# Perform paired t-test\n",
        "t_statistic, p_value = ttest_rel(before_drug, after_drug)\n",
        "\n",
        "# Significance level\n",
        "alpha = 0.05\n",
        "\n",
        "# Hypothesis testing\n",
        "if p_value < alpha:\n",
        "    print(\"Reject the null hypothesis. The drug significantly reduces blood pressure.\")\n",
        "else:\n",
        "    print(\"Fail to reject the null hypothesis. There is no significant evidence that the drug reduces blood pressure.\")\n",
        "\n",
        "print(f\"t-statistic: {t_statistic:.3f}\")\n",
        "print(f\"p-value: {p_value:.4f}\")"
      ],
      "metadata": {
        "colab": {
          "base_uri": "https://localhost:8080/"
        },
        "id": "ZFWoPT6KGtF4",
        "outputId": "8709d85c-73ed-4cc5-e851-6d42a39746c6"
      },
      "execution_count": 17,
      "outputs": [
        {
          "output_type": "stream",
          "name": "stdout",
          "text": [
            "Reject the null hypothesis. The drug significantly reduces blood pressure.\n",
            "t-statistic: 10.050\n",
            "p-value: 0.0000\n"
          ]
        }
      ]
    },
    {
      "cell_type": "markdown",
      "source": [
        "14) A customer service department claims that their average response time is less than 5 minutes. A sample\n",
        "of recent customer interactions was taken, and the response times were recorded.\n",
        "\n",
        "\n",
        "Implement the below code to generate the array of response time:\n",
        "\n",
        "```python\n",
        "\n",
        "response_times = np.array([4.3, 3.8, 5.1, 4.9, 4.7, 4.2, 5.2, 4.5, 4.6, 4.4])\n",
        "\n",
        "```\n",
        "\n",
        "Implement z-test to find the claims made by customer service department are tru or false?"
      ],
      "metadata": {
        "id": "WVH_Y_W1EcZv"
      }
    },
    {
      "cell_type": "code",
      "source": [
        "import numpy as np\n",
        "from scipy.stats import ttest_1samp\n",
        "\n",
        "# Sample data\n",
        "response_times = np.array([4.3, 3.8, 5.1, 4.9, 4.7, 4.2, 5.2, 4.5, 4.6, 4.4])\n",
        "\n",
        "# Hypothesized mean response time\n",
        "hypothesized_mean = 5\n",
        "\n",
        "# Perform one-sample t-test\n",
        "t_statistic, p_value = ttest_1samp(response_times, popmean=hypothesized_mean, alternative='less')\n",
        "\n",
        "# Significance level\n",
        "alpha = 0.05\n",
        "\n",
        "# Hypothesis testing\n",
        "if p_value < alpha:\n",
        "    print(\"Reject the null hypothesis. The average response time is significantly less than 5 minutes.\")\n",
        "else:\n",
        "    print(\"Fail to reject the null hypothesis. There is no significant evidence that the average response time is less than 5 minutes.\")\n",
        "\n",
        "print(f\"t-statistic: {t_statistic:.3f}\")\n",
        "print(f\"p-value: {p_value:.4f}\")"
      ],
      "metadata": {
        "colab": {
          "base_uri": "https://localhost:8080/"
        },
        "id": "w6n_xs6JG2eh",
        "outputId": "3f8b0ffb-baa8-4258-abba-cf8387387d9f"
      },
      "execution_count": 18,
      "outputs": [
        {
          "output_type": "stream",
          "name": "stdout",
          "text": [
            "Reject the null hypothesis. The average response time is significantly less than 5 minutes.\n",
            "t-statistic: -3.184\n",
            "p-value: 0.0056\n"
          ]
        }
      ]
    },
    {
      "cell_type": "markdown",
      "source": [
        "15) A company is testing two different website layouts to see which one leads to higher click-through rates.\n",
        "Write a Python function to perform an A/B test analysis, including calculating the t-statistic, degrees of\n",
        "freedom, and p-value.\n",
        "\n",
        "\n",
        "Use the following data:\n",
        "\n",
        "```python\n",
        "\n",
        "layout_a_clicks = [28, 32, 33, 29, 31, 34, 30, 35, 36, 37]\n",
        "\n",
        "layout_b_clicks = [40, 41, 38, 42, 39, 44, 43, 41, 45, 47]"
      ],
      "metadata": {
        "id": "KVnAe9koEcRJ"
      }
    },
    {
      "cell_type": "code",
      "source": [
        "import numpy as np\n",
        "from scipy.stats import ttest_ind\n",
        "\n",
        "def ab_test_analysis(layout_a_clicks, layout_b_clicks):\n",
        "  \"\"\"\n",
        "  Performs an A/B test analysis to compare click-through rates of two layouts.\n",
        "\n",
        "  Args:\n",
        "    layout_a_clicks: A list of click-through rates for layout A.\n",
        "    layout_b_clicks: A list of click-through rates for layout B.\n",
        "\n",
        "  Returns:\n",
        "    A tuple containing the t-statistic, degrees of freedom, and p-value.\n",
        "  \"\"\"\n",
        "\n",
        "  t_statistic, p_value = ttest_ind(layout_a_clicks, layout_b_clicks)\n",
        "  degrees_of_freedom = len(layout_a_clicks) + len(layout_b_clicks) - 2\n",
        "\n",
        "  return t_statistic, degrees_of_freedom, p_value\n",
        "\n",
        "# Sample data\n",
        "layout_a_clicks = [28, 32, 33, 29, 31, 34, 30, 35, 36, 37]\n",
        "layout_b_clicks = [40, 41, 38, 42, 39, 44, 43, 41, 45, 47]\n",
        "\n",
        "t_statistic, degrees_of_freedom, p_value = ab_test_analysis(layout_a_clicks, layout_b_clicks)\n",
        "\n",
        "print(f\"t-statistic: {t_statistic:.3f}\")\n",
        "print(f\"Degrees of Freedom: {degrees_of_freedom}\")\n",
        "print(f\"p-value: {p_value:.4f}\")"
      ],
      "metadata": {
        "colab": {
          "base_uri": "https://localhost:8080/"
        },
        "id": "TqEj_HVsG-mh",
        "outputId": "609c3747-c631-49d3-e233-5b2ff9f5b3d7"
      },
      "execution_count": 19,
      "outputs": [
        {
          "output_type": "stream",
          "name": "stdout",
          "text": [
            "t-statistic: -7.298\n",
            "Degrees of Freedom: 18\n",
            "p-value: 0.0000\n"
          ]
        }
      ]
    },
    {
      "cell_type": "markdown",
      "source": [
        "16) A pharmaceutical company wants to determine if a new drug is more effective than an existing drug in\n",
        "reducing cholesterol levels. Create a program to analyze the clinical trial data and calculate the tstatistic and p-value for the treatment effect.\n",
        "\n",
        "\n",
        "Use the following data of cholestrol level:\n",
        "\n",
        "```python\n",
        "\n",
        "existing_drug_levels = [180, 182, 175, 185, 178, 176, 172, 184, 179, 183]\n",
        "\n",
        "new_drug_levels = [170, 172, 165, 168, 175, 173, 170, 178, 172, 176]"
      ],
      "metadata": {
        "id": "jGldFNyUEcJK"
      }
    },
    {
      "cell_type": "code",
      "source": [
        "import numpy as np\n",
        "from scipy.stats import ttest_ind\n",
        "\n",
        "def analyze_drug_effectiveness(existing_drug_levels, new_drug_levels):\n",
        "  \"\"\"\n",
        "  Analyzes the effectiveness of a new drug compared to an existing drug.\n",
        "\n",
        "  Args:\n",
        "    existing_drug_levels: A list of cholesterol levels for patients on the existing drug.\n",
        "    new_drug_levels: A list of cholesterol levels for patients on the new drug.\n",
        "\n",
        "  Returns:\n",
        "    A tuple containing the t-statistic and p-value.\n",
        "  \"\"\"\n",
        "\n",
        "  t_statistic, p_value = ttest_ind(existing_drug_levels, new_drug_levels)\n",
        "  return t_statistic, p_value\n",
        "\n",
        "# Sample data\n",
        "existing_drug_levels = [180, 182, 175, 185, 178, 176, 172, 184, 179, 183]\n",
        "new_drug_levels = [170, 172, 165, 168, 175, 173, 170, 178, 172, 176]\n",
        "\n",
        "# Analyze drug effectiveness\n",
        "t_statistic, p_value = analyze_drug_effectiveness(existing_drug_levels, new_drug_levels)\n",
        "\n",
        "# Print results\n",
        "print(f\"t-statistic: {t_statistic:.3f}\")\n",
        "print(f\"p-value: {p_value:.4f}\")"
      ],
      "metadata": {
        "colab": {
          "base_uri": "https://localhost:8080/"
        },
        "id": "O8p3oRp4HH61",
        "outputId": "75c9da7b-d1b4-47e9-9b85-136471e637ea"
      },
      "execution_count": 20,
      "outputs": [
        {
          "output_type": "stream",
          "name": "stdout",
          "text": [
            "t-statistic: 4.140\n",
            "p-value: 0.0006\n"
          ]
        }
      ]
    },
    {
      "cell_type": "markdown",
      "source": [
        "17) A school district introduces an educational intervention program to improve math scores. Write a Python\n",
        "function to analyze pre- and post-intervention test scores, calculating the t-statistic and p-value to\n",
        "determine if the intervention had a significant impact.\n",
        "\n",
        "\n",
        "Use the following data of test score:\n",
        "\n",
        "\n",
        "  ```python\n",
        "\n",
        "  pre_intervention_scores = [80, 85, 90, 75, 88, 82, 92, 78, 85, 87]\n",
        "\n",
        "  post_intervention_scores = [90, 92, 88, 92, 95, 91, 96, 93, 89, 93]"
      ],
      "metadata": {
        "id": "oSapJe7vEcBR"
      }
    },
    {
      "cell_type": "code",
      "source": [
        "import numpy as np\n",
        "from scipy.stats import ttest_rel\n",
        "\n",
        "def analyze_intervention_impact(pre_scores, post_scores):\n",
        "  \"\"\"\n",
        "  Analyzes the impact of an educational intervention on student test scores.\n",
        "\n",
        "  Args:\n",
        "    pre_scores: A list of pre-intervention test scores.\n",
        "    post_scores: A list of post-intervention test scores.\n",
        "\n",
        "  Returns:\n",
        "    A tuple containing the t-statistic and p-value.\n",
        "  \"\"\"\n",
        "\n",
        "  t_statistic, p_value = ttest_rel(pre_scores, post_scores)\n",
        "  return t_statistic, p_value\n",
        "\n",
        "# Sample data\n",
        "pre_intervention_scores = [80, 85, 90, 75, 88, 82, 92, 78, 85, 87]\n",
        "post_intervention_scores = [90, 92, 88, 92, 95, 91, 96, 93, 89, 93]\n",
        "\n",
        "# Analyze intervention impact\n",
        "t_statistic, p_value = analyze_intervention_impact(pre_intervention_scores, post_intervention_scores)\n",
        "\n",
        "# Print results\n",
        "print(f\"t-statistic: {t_statistic:.3f}\")\n",
        "print(f\"p-value: {p_value:.4f}\")"
      ],
      "metadata": {
        "colab": {
          "base_uri": "https://localhost:8080/"
        },
        "id": "vY4ksoT3HPyx",
        "outputId": "32340718-918a-4d47-c5cb-9677e131ea01"
      },
      "execution_count": 21,
      "outputs": [
        {
          "output_type": "stream",
          "name": "stdout",
          "text": [
            "t-statistic: -4.428\n",
            "p-value: 0.0017\n"
          ]
        }
      ]
    },
    {
      "cell_type": "markdown",
      "source": [
        "18) An HR department wants to investigate if there's a gender-based salary gap within the company. Develop\n",
        "a program to analyze salary data, calculate the t-statistic, and determine if there's a statistically\n",
        "significant difference between the average salaries of male and female employees.\n",
        "\n",
        "\n",
        "Use the below code to generate synthetic data:\n",
        "\n",
        "\n",
        "```python\n",
        "\n",
        "# Generate synthetic salary data for male and female employees\n",
        "\n",
        "np.random.seed(0)  # For reproducibility\n",
        "\n",
        "male_salaries = np.random.normal(loc=50000, scale=10000, size=20)\n",
        "\n",
        "female_salaries = np.random.normal(loc=55000, scale=9000, size=20)"
      ],
      "metadata": {
        "id": "UXhMmzTyEb5R"
      }
    },
    {
      "cell_type": "code",
      "source": [
        "import numpy as np\n",
        "from scipy.stats import ttest_ind\n",
        "\n",
        "# Generate synthetic salary data for male and female employees\n",
        "np.random.seed(0)  # For reproducibility\n",
        "male_salaries = np.random.normal(loc=50000, scale=10000, size=20)\n",
        "female_salaries = np.random.normal(loc=55000, scale=9000, size=20)\n",
        "\n",
        "# Perform independent two-sample t-test\n",
        "t_statistic, p_value = ttest_ind(male_salaries, female_salaries, equal_var=False)\n",
        "\n",
        "# Significance level\n",
        "alpha = 0.05\n",
        "\n",
        "# Hypothesis testing\n",
        "if p_value < alpha:\n",
        "    print(\"Reject the null hypothesis. There is evidence of a statistically significant difference in salaries between male and female employees.\")\n",
        "else:\n",
        "    print(\"Fail to reject the null hypothesis. There is no statistically significant evidence of a gender-based salary gap.\")\n",
        "\n",
        "print(f\"t-statistic: {t_statistic:.3f}\")\n",
        "print(f\"p-value: {p_value:.4f}\")"
      ],
      "metadata": {
        "colab": {
          "base_uri": "https://localhost:8080/"
        },
        "id": "Fhbl24I7Hbgz",
        "outputId": "8e8de936-e584-466c-a9bd-11d175770e3e"
      },
      "execution_count": 22,
      "outputs": [
        {
          "output_type": "stream",
          "name": "stdout",
          "text": [
            "Fail to reject the null hypothesis. There is no statistically significant evidence of a gender-based salary gap.\n",
            "t-statistic: 0.061\n",
            "p-value: 0.9516\n"
          ]
        }
      ]
    },
    {
      "cell_type": "markdown",
      "source": [
        "19) A manufacturer produces two different versions of a product and wants to compare their quality scores.\n",
        "Create a Python function to analyze quality assessment data, calculate the t-statistic, and decide\n",
        "whether there's a significant difference in quality between the two versions.\n",
        "\n",
        "\n",
        "Use the following data:\n",
        "\n",
        "\n",
        "```python\n",
        "\n",
        "version1_scores = [85, 88, 82, 89, 87, 84, 90, 88, 85, 86, 91, 83, 87, 84, 89, 86, 84, 88, 85, 86, 89, 90, 87, 88, 85]\n",
        "\n",
        "version2_scores = [80, 78, 83, 81, 79, 82, 76, 80, 78, 81, 77, 82, 80, 79, 82, 79, 80, 81, 79, 82, 79, 78, 80, 81, 82]"
      ],
      "metadata": {
        "id": "OBAuXkwDEbxx"
      }
    },
    {
      "cell_type": "code",
      "source": [
        "import numpy as np\n",
        "from scipy.stats import ttest_ind\n",
        "\n",
        "def compare_product_quality(version1_scores, version2_scores):\n",
        "  \"\"\"\n",
        "  Analyzes quality assessment data for two product versions and\n",
        "  determines if there's a significant difference in quality.\n",
        "\n",
        "  Args:\n",
        "    version1_scores: A list of quality scores for version 1.\n",
        "    version2_scores: A list of quality scores for version 2.\n",
        "\n",
        "  Returns:\n",
        "    A tuple containing the t-statistic, p-value, and a boolean indicating\n",
        "    whether there's a significant difference (True) or not (False).\n",
        "  \"\"\"\n",
        "  t_statistic, p_value = ttest_ind(version1_scores, version2_scores)\n",
        "  alpha = 0.05  # Significance level\n",
        "  significant_difference = True if p_value < alpha else False\n",
        "  return t_statistic, p_value, significant_difference\n",
        "\n",
        "# Sample data\n",
        "version1_scores = [85, 88, 82, 89, 87, 84, 90, 88, 85, 86, 91, 83, 87, 84, 89, 86, 84, 88, 85, 86, 89, 90, 87, 88, 85]\n",
        "version2_scores = [80, 78, 83, 81, 79, 82, 76, 80, 78, 81, 77, 82, 80, 79, 82, 79, 80, 81, 79, 82, 79, 78, 80, 81, 82]\n",
        "\n",
        "# Analyze quality scores\n",
        "t_statistic, p_value, is_significant = compare_product_quality(version1_scores, version2_scores)\n",
        "\n",
        "# Print results\n",
        "print(f\"t-statistic: {t_statistic:.3f}\")\n",
        "print(f\"p-value: {p_value:.4f}\")\n",
        "print(f\"Significant difference in quality: {is_significant}\")"
      ],
      "metadata": {
        "colab": {
          "base_uri": "https://localhost:8080/"
        },
        "id": "yYFH3i-ZHoa9",
        "outputId": "668112b6-8afa-4ff5-808e-26edc759b2ba"
      },
      "execution_count": 23,
      "outputs": [
        {
          "output_type": "stream",
          "name": "stdout",
          "text": [
            "t-statistic: 11.326\n",
            "p-value: 0.0000\n",
            "Significant difference in quality: True\n"
          ]
        }
      ]
    },
    {
      "cell_type": "markdown",
      "source": [
        "20)  A restaurant chain collects customer satisfaction scores for two different branches. Write a program to\n",
        "analyze the scores, calculate the t-statistic, and determine if there's a statistically significant difference in\n",
        "customer satisfaction between the branches.\n",
        "\n",
        "\n",
        "Use the below data of scores:\n",
        "\n",
        "  ```python\n",
        "\n",
        "branch_a_scores = [4, 5, 3, 4, 5, 4, 5, 3, 4, 4, 5, 4, 4, 3, 4, 5, 5, 4, 3, 4, 5, 4, 3, 5, 4, 4, 5, 3, 4, 5, 4]\n",
        "\n",
        "branch_b_scores = [3, 4, 2, 3, 4, 3, 4, 2, 3, 3, 4, 3, 3, 2, 3, 4, 4, 3, 2, 3, 4, 3, 2, 4, 3, 3, 4, 2, 3, 4, 3]\n",
        "\n",
        "A) analyze the scores, calculate the t-statistic, and determine if there's a statistically significant difference in\n",
        "\n",
        "customer satisfaction between the branches.\n",
        "\n",
        "\n",
        "\n",
        "\n",
        "\n",
        "Use the below data of scores:\n",
        "\n",
        "\n",
        "\n",
        "  ```python\n",
        "\n",
        "\n",
        "\n",
        "branch_a_scores = [4, 5, 3, 4, 5, 4, 5, 3, 4, 4, 5, 4, 4, 3, 4, 5, 5, 4, 3, 4, 5, 4, 3, 5, 4, 4, 5, 3, 4, 5, 4]\n",
        "\n",
        "\n",
        "\n",
        "branch_b_scores = [3, 4, 2, 3, 4, 3, 4, 2, 3, 3, 4, 3, 3, 2, 3, 4, 4, 3, 2, 3, 4, 3, 2, 4, 3, 3, 4, 2, 3, 4, 3]\n",
        "\n",
        "\n",
        "\n",
        "\n",
        "\n",
        "This code performs the following:\n",
        "\n",
        "Imports necessary libraries:\n",
        "\n",
        "numpy for numerical operations.\n",
        "scipy.stats for statistical functions, specifically ttest_ind for independent two-sample t-test.\n",
        "Defines analyze_branch_satisfaction function:\n",
        "\n",
        "Takes two lists (branch_a_scores and branch_b_scores) as input.\n",
        "Performs an independent two-sample t-test using ttest_ind() to compare the mean satisfaction scores of the two branches.\n",
        "Sets the significance level (alpha) to 0.05.\n",
        "Determines if there's a significant difference by comparing the p_value to alpha.\n",
        "Returns a tuple containing the t_statistic, p_value, and a boolean indicating whether there's a significant difference.\n",
        "Sample data:\n",
        "\n",
        "Defines the sample satisfaction scores for both branches.\n",
        "Analyzes customer satisfaction:\n",
        "\n",
        "Calls the analyze_branch_satisfaction function to perform the analysis.\n",
        "Prints results:\n",
        "\n",
        "Prints the calculated t_statistic, p_value, and a clear statement indicating whether there's a significant difference in customer satisfaction between the two branches.\n",
        "This code will perform the t-test and provide a conclusion about whether there's a statistically significant difference in customer satisfaction between the two restaurant branches based on the provided scores.\n",
        "This Python code effectively analyzes the customer satisfaction scores for two restaurant branches and determines if there's a statistically significant difference between them. Here's a breakdown:\n",
        "\n",
        "Import necessary libraries:\n",
        "\n",
        "numpy for numerical operations.\n",
        "scipy.stats for statistical functions, specifically ttest_ind for independent two-sample t-test.\n",
        "analyze_branch_satisfaction function:\n",
        "\n",
        "Takes two lists (branch_a_scores and branch_b_scores) as input.\n",
        "Performs an independent two-sample t-test using ttest_ind() to compare the mean satisfaction scores of the two branches.\n",
        "Sets the significance level (alpha) to 0.05.\n",
        "Determines if there's a significant difference by comparing the p_value to alpha.\n",
        "Returns a tuple containing the t_statistic, p_value, and a boolean indicating whether there's a significant difference.\n",
        "Sample data:\n",
        "\n",
        "Defines the sample satisfaction scores for both branches.\n",
        "Analyze customer satisfaction:\n",
        "\n",
        "Calls the analyze_branch_satisfaction function to perform the analysis.\n",
        "Print results:\n",
        "\n",
        "Prints the calculated t_statistic, p_value, and a clear statement indicating whether there's a significant difference in customer satisfaction between the two branches."
      ],
      "metadata": {
        "id": "vMQzjwIkEbpL"
      }
    },
    {
      "cell_type": "markdown",
      "source": [
        "21) A political analyst wants to determine if there is a significant association between age groups and voter\n",
        "preferences (Candidate A or Candidate B). They collect data from a sample of 500 voters and classify\n",
        "them into different age groups and candidate preferences. Perform a Chi-Square test to determine if\n",
        "there is a significant association between age groups and voter preferences.\n",
        "\n",
        "\n",
        "Use the below code to generate data:\n",
        "\n",
        "```python\n",
        "\n",
        "np.random.seed(0)\n",
        "\n",
        "age_groups = np.random.choice([ 18 30 , 31 50 , 51+', 51+'], size=30)\n",
        "\n",
        "voter_preferences = np.random.choice(['Candidate A', 'Candidate B'], size=30)"
      ],
      "metadata": {
        "id": "sun5Lph5EbhE"
      }
    },
    {
      "cell_type": "code",
      "source": [
        "import numpy as np\n",
        "from scipy.stats import chi2_contingency\n",
        "import pandas as pd\n",
        "\n",
        "# Generate synthetic data (modify to match the actual data)\n",
        "np.random.seed(0)\n",
        "age_groups = np.random.choice(['18-30', '31-50', '51+'], size=500)\n",
        "voter_preferences = np.random.choice(['Candidate A', 'Candidate B'], size=500)\n",
        "\n",
        "# Create a DataFrame for easier manipulation\n",
        "data = pd.DataFrame({'Age Group': age_groups, 'Preference': voter_preferences})\n",
        "\n",
        "# Create a contingency table\n",
        "contingency_table = pd.crosstab(data['Age Group'], data['Preference'])\n",
        "\n",
        "# Perform Chi-Square test\n",
        "chi2_stat, p_value, dof, expected = chi2_contingency(contingency_table)\n",
        "\n",
        "# Significance level\n",
        "alpha = 0.05\n",
        "\n",
        "# Hypothesis testing\n",
        "if p_value < alpha:\n",
        "    print(\"Reject the null hypothesis. There is a significant association between age groups and voter preferences.\")\n",
        "else:\n",
        "    print(\"Fail to reject the null hypothesis. There is no significant association between age groups and voter preferences.\")\n",
        "\n",
        "print(f\"Chi-Square Statistic: {chi2_stat:.4f}\")\n",
        "print(f\"p-value: {p_value:.4f}\")\n",
        "print(f\"Degrees of Freedom: {dof}\")\n",
        "print(\"Expected Frequencies:\\n\", expected)"
      ],
      "metadata": {
        "colab": {
          "base_uri": "https://localhost:8080/"
        },
        "id": "JeYrZ_7PIPWE",
        "outputId": "68912673-776c-411a-bff4-26ac7dd11979"
      },
      "execution_count": 24,
      "outputs": [
        {
          "output_type": "stream",
          "name": "stdout",
          "text": [
            "Fail to reject the null hypothesis. There is no significant association between age groups and voter preferences.\n",
            "Chi-Square Statistic: 0.8780\n",
            "p-value: 0.6447\n",
            "Degrees of Freedom: 2\n",
            "Expected Frequencies:\n",
            " [[96.824 85.176]\n",
            " [89.908 79.092]\n",
            " [79.268 69.732]]\n"
          ]
        }
      ]
    },
    {
      "cell_type": "markdown",
      "source": [
        "22)  22. A company conducted a customer satisfaction survey to determine if there is a significant relationship\n",
        "between product satisfaction levels (Satisfied, Neutral, Dissatisfied) and the region where customers are\n",
        "located (East, West, North, South). The survey data is summarized in a contingency table. Conduct a ChiSquare test to determine if there is a significant relationship between product satisfaction levels and\n",
        "customer regions.\n",
        "\n",
        "\n",
        "Sample data:\n",
        "\n",
        "```python\n",
        "\n",
        "#Sample data: Product satisfaction levels (rows) vs. Customer regions (columns)\n",
        "\n",
        "data = np.array([[50, 30, 40, 20], [30, 40, 30, 50], [20, 30, 40, 30]])\n",
        "\n",
        "```"
      ],
      "metadata": {
        "id": "WqBSGpp3EbZx"
      }
    },
    {
      "cell_type": "code",
      "source": [
        "import numpy as np\n",
        "from scipy.stats import chi2_contingency\n",
        "\n",
        "# Sample data: Product satisfaction levels (rows) vs. Customer regions (columns)\n",
        "data = np.array([[50, 30, 40, 20],\n",
        "                 [30, 40, 30, 50],\n",
        "                 [20, 30, 40, 30]])\n",
        "\n",
        "# Perform Chi-Square test\n",
        "chi2_stat, p_value, dof, expected = chi2_contingency(data)\n",
        "\n",
        "# Significance level\n",
        "alpha = 0.05\n",
        "\n",
        "# Hypothesis testing\n",
        "if p_value < alpha:\n",
        "    print(\"Reject the null hypothesis. There is a significant relationship between product satisfaction levels and customer regions.\")\n",
        "else:\n",
        "    print(\"Fail to reject the null hypothesis. There is no significant relationship between product satisfaction levels and customer regions.\")\n",
        "\n",
        "print(f\"Chi-Square Statistic: {chi2_stat:.4f}\")\n",
        "print(f\"p-value: {p_value:.4f}\")\n",
        "print(f\"Degrees of Freedom: {dof}\")\n",
        "print(\"Expected Frequencies:\\n\", expected)"
      ],
      "metadata": {
        "colab": {
          "base_uri": "https://localhost:8080/"
        },
        "id": "OD_mF78QIVQM",
        "outputId": "2de7bafa-6f0f-4abc-d4d1-a5280ad9ab39"
      },
      "execution_count": 25,
      "outputs": [
        {
          "output_type": "stream",
          "name": "stdout",
          "text": [
            "Reject the null hypothesis. There is a significant relationship between product satisfaction levels and customer regions.\n",
            "Chi-Square Statistic: 27.7771\n",
            "p-value: 0.0001\n",
            "Degrees of Freedom: 6\n",
            "Expected Frequencies:\n",
            " [[34.14634146 34.14634146 37.56097561 34.14634146]\n",
            " [36.58536585 36.58536585 40.24390244 36.58536585]\n",
            " [29.26829268 29.26829268 32.19512195 29.26829268]]\n"
          ]
        }
      ]
    },
    {
      "cell_type": "markdown",
      "source": [
        "23) A company implemented an employee training program to improve job performance (Effective, Neutral,\n",
        "Ineffective). After the training, they collected data from a sample of employees and classified them based\n",
        "on their job performance before and after the training. Perform a Chi-Square test to determine if there is a\n",
        "significant difference between job performance levels before and after the training.\n",
        "\n",
        "\n",
        "Sample data:\n",
        "\n",
        "```python\n",
        "\n",
        "# Sample data: Job performance levels before (rows) and after (columns) training\n",
        "\n",
        "data = np.array([[50, 30, 20], [30, 40, 30], [20, 30, 40]])\n",
        "\n",
        "```"
      ],
      "metadata": {
        "id": "H1uzTeYIEbYt"
      }
    },
    {
      "cell_type": "code",
      "source": [
        "import numpy as np\n",
        "from scipy.stats import chi2_contingency\n",
        "\n",
        "# Sample data: Job performance levels before (rows) and after (columns) training\n",
        "data = np.array([[50, 30, 20],\n",
        "                 [30, 40, 30],\n",
        "                 [20, 30, 40]])\n",
        "\n",
        "# Perform Chi-Square test\n",
        "chi2_stat, p_value, dof, expected = chi2_contingency(data)\n",
        "\n",
        "# Significance level\n",
        "alpha = 0.05\n",
        "\n",
        "# Hypothesis testing\n",
        "if p_value < alpha:\n",
        "    print(\"Reject the null hypothesis. There is a significant difference in job performance levels before and after the training.\")\n",
        "else:\n",
        "    print(\"Fail to reject the null hypothesis. There is no significant difference in job performance levels before and after the training.\")\n",
        "\n",
        "print(f\"Chi-Square Statistic: {chi2_stat:.4f}\")\n",
        "print(f\"p-value: {p_value:.4f}\")\n",
        "print(f\"Degrees of Freedom: {dof}\")\n",
        "print(\"Expected Frequencies:\\n\", expected)"
      ],
      "metadata": {
        "colab": {
          "base_uri": "https://localhost:8080/"
        },
        "id": "LG-B2wy9IktE",
        "outputId": "d737b2c8-d3da-4750-874b-500ab1a0c3d6"
      },
      "execution_count": 26,
      "outputs": [
        {
          "output_type": "stream",
          "name": "stdout",
          "text": [
            "Reject the null hypothesis. There is a significant difference in job performance levels before and after the training.\n",
            "Chi-Square Statistic: 22.1617\n",
            "p-value: 0.0002\n",
            "Degrees of Freedom: 4\n",
            "Expected Frequencies:\n",
            " [[34.48275862 34.48275862 31.03448276]\n",
            " [34.48275862 34.48275862 31.03448276]\n",
            " [31.03448276 31.03448276 27.93103448]]\n"
          ]
        }
      ]
    },
    {
      "cell_type": "markdown",
      "source": [
        "24) A company produces three different versions of a product: Standard, Premium, and Deluxe. The\n",
        "company wants to determine if there is a significant difference in customer satisfaction scores among the\n",
        "three product versions. They conducted a survey and collected customer satisfaction scores for each\n",
        "version from a random sample of customers. Perform an ANOVA test to determine if there is a significant\n",
        "difference in customer satisfaction scores.\n",
        "\n",
        "\n",
        "  Use the following data:\n",
        "\n",
        "  ```python\n",
        "\n",
        "  # Sample data: Customer satisfaction scores for each product version\n",
        "\n",
        "  standard_scores = [80, 85, 90, 78, 88, 82, 92, 78, 85, 87]\n",
        "\n",
        "  premium_scores = [90, 92, 88, 92, 95, 91, 96, 93, 89, 93]\n",
        "\n",
        "  deluxe_scores = [95, 98, 92, 97, 96, 94, 98, 97, 92, 99]\n",
        "\n",
        "  ``"
      ],
      "metadata": {
        "id": "DHbDY1VbEbSx"
      }
    },
    {
      "cell_type": "code",
      "source": [
        "import numpy as np\n",
        "from scipy.stats import f_oneway\n",
        "\n",
        "# Sample data: Customer satisfaction scores for each product version\n",
        "standard_scores = [80, 85, 90, 78, 88, 82, 92, 78, 85, 87]\n",
        "premium_scores = [90, 92, 88, 92, 95, 91, 96, 93, 89, 93]\n",
        "deluxe_scores = [95, 98, 92, 97, 96, 94, 98, 97, 92, 99]\n",
        "\n",
        "# Perform ANOVA test\n",
        "f_statistic, p_value = f_oneway(standard_scores, premium_scores, deluxe_scores)\n",
        "\n",
        "# Significance level\n",
        "alpha = 0.05\n",
        "\n",
        "# Hypothesis testing\n",
        "if p_value < alpha:\n",
        "    print(\"Reject the null hypothesis. There is a significant difference in customer satisfaction scores among the three product versions.\")\n",
        "else:\n",
        "    print(\"Fail to reject the null hypothesis. There is no significant difference in customer satisfaction scores among the three product versions.\")\n",
        "\n",
        "print(f\"F-statistic: {f_statistic:.4f}\")\n",
        "print(f\"p-value: {p_value:.4f}\")"
      ],
      "metadata": {
        "colab": {
          "base_uri": "https://localhost:8080/"
        },
        "id": "EPTUJHiVIuMR",
        "outputId": "2e016738-82a7-49bb-c5aa-f430e4c37082"
      },
      "execution_count": 27,
      "outputs": [
        {
          "output_type": "stream",
          "name": "stdout",
          "text": [
            "Reject the null hypothesis. There is a significant difference in customer satisfaction scores among the three product versions.\n",
            "F-statistic: 27.0356\n",
            "p-value: 0.0000\n"
          ]
        }
      ]
    }
  ]
}